{
 "cells": [
  {
   "cell_type": "markdown",
   "metadata": {},
   "source": [
    "Evaluating Pytorch saved tensor API"
   ]
  },
  {
   "cell_type": "code",
   "execution_count": 1,
   "metadata": {},
   "outputs": [],
   "source": [
    "import torch\n",
    "import torch.nn as nn\n",
    "from typing import Optional, Union, Any, Iterable"
   ]
  },
  {
   "cell_type": "code",
   "execution_count": 2,
   "metadata": {},
   "outputs": [],
   "source": [
    "class MLP(nn.Module):\n",
    "    \"\"\"\n",
    "    Basic MLP (multi-layer perceptron) layer with optional Dropout.\n",
    "    \"\"\"\n",
    "\n",
    "    def __init__(\n",
    "        self,\n",
    "        d_model: int,\n",
    "        act_fn: nn.Module,\n",
    "        dropout_prob: Optional[float] = None,\n",
    "        device: Optional[Union[str, torch.device]] = None,\n",
    "        dtype: Optional[torch.dtype] = None,\n",
    "    ) -> None:\n",
    "        super().__init__()\n",
    "        self.d_model = d_model\n",
    "        self.act_fn = act_fn\n",
    "        self.dropout_prob = dropout_prob\n",
    "        factory_kwargs = {\"device\": device, \"dtype\": dtype}\n",
    "\n",
    "        self.lin_0 = nn.Linear(self.d_model, 4 * self.d_model, **factory_kwargs)\n",
    "        self.lin_1 = nn.Linear(4 * self.d_model, self.d_model, **factory_kwargs)\n",
    "        self.dropout = nn.Dropout(self.dropout_prob) if self.dropout_prob else None\n",
    "\n",
    "    def forward(self, inputs: torch.Tensor) -> torch.Tensor:\n",
    "        x = self.lin_0(inputs)\n",
    "        x = self.act_fn(x)\n",
    "        x = self.lin_1(x)\n",
    "        if self.dropout is not None:\n",
    "            x = self.dropout(x)\n",
    "        return x"
   ]
  },
  {
   "cell_type": "code",
   "execution_count": 3,
   "metadata": {},
   "outputs": [],
   "source": [
    "class AllocatedMemContext:\n",
    "    def __init__(self) -> None:\n",
    "        # Ensure CUDA libraries are loaded:\n",
    "        torch.cuda.current_blas_handle()\n",
    "\n",
    "        self.before: dict[str, int] = {}\n",
    "        self.after: dict[str, int] = {}\n",
    "        self.delta: dict[str, int] = {}\n",
    "\n",
    "    def _get_mem_dict(self) -> dict[str, int]:\n",
    "        # Only need `allocated_bytes.all`-prefixed keys here\n",
    "        key_prefix = \"allocated_bytes.all.\"\n",
    "        return {\n",
    "            k.replace(key_prefix, \"\"): v\n",
    "            for k, v in torch.cuda.memory_stats().items()\n",
    "            if key_prefix in k\n",
    "        }\n",
    "\n",
    "    def __enter__(self) -> \"AllocatedMemContext\":\n",
    "        self.before = self._get_mem_dict()\n",
    "        return self\n",
    "\n",
    "    def __exit__(self, *args: Any, **kwargs: Any) -> None:\n",
    "        self.after = self._get_mem_dict()\n",
    "        self.delta = {k: v - self.before[k] for k, v in self.after.items()}"
   ]
  },
  {
   "cell_type": "code",
   "execution_count": 4,
   "metadata": {},
   "outputs": [],
   "source": [
    "class SavedTensorContext:\n",
    "    def __init__(\n",
    "        self,\n",
    "        ignored_tensors: Optional[Iterable[torch.Tensor]] = None,\n",
    "    ) -> None:\n",
    "        self._ignored_data_ptrs = (\n",
    "            set()\n",
    "            if ignored_tensors is None\n",
    "            else {t.untyped_storage().data_ptr() for t in ignored_tensors}\n",
    "        )\n",
    "\n",
    "        self.saved_tensor_dict = torch.utils.weak.WeakTensorKeyDictionary()\n",
    "\n",
    "        def pack_hook(saved_tensor: torch.Tensor) -> torch.Tensor:\n",
    "            data_ptr = saved_tensor.untyped_storage().data_ptr()\n",
    "            if data_ptr not in self._ignored_data_ptrs:\n",
    "                self.saved_tensor_dict[saved_tensor] = data_ptr\n",
    "            return saved_tensor\n",
    "\n",
    "        def unpack_hook(saved_tensor: torch.Tensor) -> torch.Tensor:\n",
    "            return saved_tensor\n",
    "\n",
    "        self._saved_tensors_hook = torch.autograd.graph.saved_tensors_hooks(\n",
    "            pack_hook, unpack_hook\n",
    "        )\n",
    "\n",
    "    def __enter__(self) -> \"SavedTensorContext\":\n",
    "        self._saved_tensors_hook.__enter__()\n",
    "        return self\n",
    "\n",
    "    def __exit__(self, *args: Any, **kwargs: Any) -> None:\n",
    "        self._saved_tensors_hook.__exit__(*args, **kwargs)\n",
    "\n",
    "    @property\n",
    "    def saved_tensor_mem(self) -> int:\n",
    "        \"\"\"\n",
    "        The memory in bytes of all saved tensors, accounting for views into the same storage.\n",
    "        \"\"\"\n",
    "        accounted_for = self._ignored_data_ptrs.copy()\n",
    "        total_bytes = 0\n",
    "        for t in self.saved_tensor_dict:\n",
    "            data_ptr = t.untyped_storage().data_ptr()\n",
    "            if data_ptr not in accounted_for:\n",
    "                total_bytes += t.untyped_storage().nbytes()\n",
    "                accounted_for.add(data_ptr)\n",
    "        return total_bytes"
   ]
  },
  {
   "cell_type": "code",
   "execution_count": 6,
   "metadata": {},
   "outputs": [
    {
     "name": "stdout",
     "output_type": "stream",
     "text": [
      "ReLU bytes: 83886080\n",
      "GELU bytes: 150994944\n",
      "ReLU/GeLU act mem ratio: 0.5555555555555556\n"
     ]
    }
   ],
   "source": [
    "batch_size, seq_len, d_model = 2, 4096, 1024\n",
    "dtype = torch.bfloat16\n",
    "inputs = torch.randn(\n",
    "    batch_size,\n",
    "    seq_len,\n",
    "    d_model,\n",
    "    device=\"cuda\",\n",
    "    requires_grad=True,\n",
    "    dtype=dtype,\n",
    ")\n",
    "\n",
    "act_fn_dict = {\"ReLU\": nn.ReLU(), \"GELU\": nn.GELU()}\n",
    "# Append outputs to a list to keep tensors alive\n",
    "outputs = []\n",
    "mem_bytes = []\n",
    "\n",
    "for name, act_fn in act_fn_dict.items():\n",
    "    mlp = MLP(\n",
    "        d_model=d_model,\n",
    "        act_fn=act_fn,\n",
    "        device=\"cuda\",\n",
    "        dtype=dtype,\n",
    "    )\n",
    "    with AllocatedMemContext() as mem, SavedTensorContext(\n",
    "        ignored_tensors=mlp.parameters()\n",
    "    ) as saved:\n",
    "        out = mlp(inputs)\n",
    "        outputs.append(out)\n",
    "    # assert mem.delta[\"current\"] == saved.saved_tensor_mem\n",
    "    print(f\"{name} bytes: {saved.saved_tensor_mem}\")\n",
    "    mem_bytes.append(saved.saved_tensor_mem)\n",
    "\n",
    "print(f\"ReLU/GeLU act mem ratio: {mem_bytes[0]/mem_bytes[1]}\")"
   ]
  },
  {
   "cell_type": "code",
   "execution_count": null,
   "metadata": {},
   "outputs": [],
   "source": []
  },
  {
   "cell_type": "code",
   "execution_count": 8,
   "metadata": {},
   "outputs": [
    {
     "name": "stdout",
     "output_type": "stream",
     "text": [
      "Before deleting tensor1:\n",
      "<WeakIdKeyDictionary at 0x73476421c460> 1 This is tensor 1 [tensor([1, 2, 3])]\n",
      "After deleting tensor1:\n",
      "<WeakIdKeyDictionary at 0x73476421c460> 0 []\n"
     ]
    }
   ],
   "source": [
    "# Pytorch weakkeytensor\n",
    "\n",
    "import torch\n",
    "from torch.utils.weak import WeakTensorKeyDictionary\n",
    "\n",
    "# Create a WeakTensorKeyDictionary\n",
    "weak_dict = WeakTensorKeyDictionary()\n",
    "\n",
    "# Create a tensor and add it to the dictionary\n",
    "tensor1 = torch.tensor([1, 2, 3])\n",
    "weak_dict[tensor1] = \"This is tensor 1\"\n",
    "\n",
    "print(\"Before deleting tensor1:\")\n",
    "print(weak_dict, len(weak_dict), weak_dict[tensor1], list(weak_dict.keys()))\n",
    "\n",
    "# Delete the reference to the tensor\n",
    "del tensor1\n",
    "\n",
    "# Now tensor1 can be garbage collected\n",
    "# Since we deleted the only strong reference to tensor1,\n",
    "# it should also be removed from weak_dict\n",
    "print(\"After deleting tensor1:\")\n",
    "print(weak_dict, len(weak_dict), list(weak_dict.keys()))\n"
   ]
  },
  {
   "cell_type": "code",
   "execution_count": null,
   "metadata": {},
   "outputs": [],
   "source": []
  },
  {
   "cell_type": "code",
   "execution_count": 12,
   "metadata": {},
   "outputs": [
    {
     "name": "stdout",
     "output_type": "stream",
     "text": [
      "Before deleting tensors:\n",
      "Tensor at index 0: tensor([1, 2, 3])\n",
      "tensor([1, 2, 3])\n",
      "Tensor at index 1: tensor([4, 5, 6])\n",
      "tensor([4, 5, 6])\n",
      "\n",
      "After deleting tensors:\n",
      "Tensor at index 0 has been garbage collected.\n",
      "Tensor at index 0: None\n",
      "Tensor at index 1 has been garbage collected.\n",
      "Tensor at index 1: None\n",
      "\n",
      "After cleanup, length of list: 0\n"
     ]
    }
   ],
   "source": [
    "import torch \n",
    "import weakref\n",
    "\n",
    "class WeakTensorList:\n",
    "    def __init__(self):\n",
    "        self._refs = []\n",
    "\n",
    "    def append(self, tensor):\n",
    "        # Add a weak reference to the tensor\n",
    "        self._refs.append(weakref.ref(tensor))\n",
    "\n",
    "    def __getitem__(self, index):\n",
    "        # Retrieve the tensor, if it's still alive\n",
    "        tensor_ref = self._refs[index]()\n",
    "        if tensor_ref is None:\n",
    "            print(f\"Tensor at index {index} has been garbage collected.\")\n",
    "        return tensor_ref\n",
    "\n",
    "    def __len__(self):\n",
    "        return len(self._refs)\n",
    "\n",
    "    def cleanup(self):\n",
    "        # Clean up any None references from the list\n",
    "        self._refs = [ref for ref in self._refs if ref() is not None]\n",
    "\n",
    "# Usage example\n",
    "tensor_list = WeakTensorList()\n",
    "tensor1 = torch.tensor([1, 2, 3])\n",
    "tensor2 = torch.tensor([4, 5, 6])\n",
    "\n",
    "tensor_list.append(tensor1)\n",
    "tensor_list.append(tensor2)\n",
    "\n",
    "print(\"Before deleting tensors:\")\n",
    "for i in range(len(tensor_list)):\n",
    "    print(f\"Tensor at index {i}: {tensor_list[i]}\")\n",
    "    print(tensor_list._refs[i]())\n",
    "\n",
    "# Delete the strong references to the tensors\n",
    "del tensor1\n",
    "del tensor2\n",
    "\n",
    "print(\"\\nAfter deleting tensors:\")\n",
    "for i in range(len(tensor_list)):\n",
    "    print(f\"Tensor at index {i}: {tensor_list[i]}\")\n",
    "\n",
    "# Clean up any None references\n",
    "tensor_list.cleanup()\n",
    "print(\"\\nAfter cleanup, length of list:\", len(tensor_list))\n"
   ]
  },
  {
   "cell_type": "code",
   "execution_count": 13,
   "metadata": {},
   "outputs": [
    {
     "data": {
      "text/plain": [
       "[1, 2]"
      ]
     },
     "execution_count": 13,
     "metadata": {},
     "output_type": "execute_result"
    }
   ],
   "source": [
    "a = [1,2,3]\n",
    "\n",
    "a[:-1]"
   ]
  },
  {
   "cell_type": "code",
   "execution_count": null,
   "metadata": {},
   "outputs": [],
   "source": []
  }
 ],
 "metadata": {
  "kernelspec": {
   "display_name": "titan",
   "language": "python",
   "name": "python3"
  },
  "language_info": {
   "codemirror_mode": {
    "name": "ipython",
    "version": 3
   },
   "file_extension": ".py",
   "mimetype": "text/x-python",
   "name": "python",
   "nbconvert_exporter": "python",
   "pygments_lexer": "ipython3",
   "version": "3.10.15"
  }
 },
 "nbformat": 4,
 "nbformat_minor": 2
}
