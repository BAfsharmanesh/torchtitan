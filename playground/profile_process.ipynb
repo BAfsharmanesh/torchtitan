{
 "cells": [
  {
   "cell_type": "code",
   "execution_count": 5,
   "metadata": {},
   "outputs": [],
   "source": [
    "res = {'tok_embeddings_forward_start': 1730903616.5412118, 'tok_embeddings_forward_end': 1730903616.5754998, 'layers.0_forward_start': 1730903616.5761306, 'layers.0_forward_end': 1730903616.6221375, 'layers.1_forward_start': 1730903616.6228216, 'layers.1_forward_end': 1730903616.6653914, 'layers.2_forward_start': 1730903616.666256, 'layers.2_forward_end': 1730903616.7133372, 'layers.3_forward_start': 1730903616.7140687, 'layers.3_forward_end': 1730903616.7642713, 'layers.4_forward_start': 1730903616.764911, 'layers.4_forward_end': 1730903616.8058288, 'layers.5_forward_start': 1730903616.806461, 'layers.5_forward_end': 1730903616.8529823, 'layers.6_forward_start': 1730903616.8536396, 'layers.6_forward_end': 1730903616.899856, 'layers.7_forward_start': 1730903616.900513, 'layers.7_forward_end': 1730903616.9548008, 'layers.8_forward_start': 1730903616.9554276, 'layers.8_forward_end': 1730903617.0052752, 'layers.9_forward_start': 1730903617.005895, 'layers.9_forward_end': 1730903617.0543392, 'norm_forward_start': 1730903617.0552773, 'norm_forward_end': 1730903617.0600767, 'output_forward_start': 1730903617.0681221, 'output_forward_end': 1730903617.077861, 'output_backward_start': 1730903617.0937266, 'output_backward_end': 1730903617.1159039, 'norm_backward_start': 1730903617.1224327, 'norm_backward_end': 1730903617.12792, 'layers.9_backward_start': 1730903617.1284912, 'layers.9_backward_end': 1730903617.2019794, 'layers.8_backward_start': 1730903617.2027054, 'layers.8_backward_end': 1730903617.2738452, 'layers.7_backward_start': 1730903617.2743926, 'layers.7_backward_end': 1730903617.347765, 'layers.6_backward_start': 1730903617.3485498, 'layers.6_backward_end': 1730903617.4203594, 'layers.5_backward_start': 1730903617.4208975, 'layers.5_backward_end': 1730903617.4985363, 'layers.4_backward_start': 1730903617.4990823, 'layers.4_backward_end': 1730903617.5676548, 'layers.3_backward_start': 1730903617.5682194, 'layers.3_backward_end': 1730903617.6406376, 'layers.2_backward_start': 1730903617.6413934, 'layers.2_backward_end': 1730903617.710579, 'layers.1_backward_start': 1730903617.7115657, 'layers.1_backward_end': 1730903617.7792482, 'layers.0_backward_start': 1730903617.780038, 'layers.0_backward_end': 1730903617.846842, 'optimizer_step_start': 1730903617.9359457, 'optimizer_step_end': 1730903617.9688802}"
   ]
  },
  {
   "cell_type": "code",
   "execution_count": 6,
   "metadata": {},
   "outputs": [],
   "source": [
    "layer_times = {}\n",
    "for k in res.keys():\n",
    "    key = '_'.join(k.split('_')[:-1])\n",
    "    layer_times[key] = None\n",
    "\n",
    "\n",
    "for key in layer_times.keys():\n",
    "    layer_times[key] = round((res[key + '_end'] - res[key + '_start'])*1000, 8)\n",
    "\n",
    "layer_times['forward'] = round(sum([layer_times[key] for key in layer_times.keys() if 'forward' in key]), 8)\n",
    "layer_times['backward'] = round(sum([layer_times[key] for key in layer_times.keys() if 'backward' in key]), 8)\n"
   ]
  },
  {
   "cell_type": "code",
   "execution_count": 7,
   "metadata": {},
   "outputs": [
    {
     "data": {
      "text/plain": [
       "{'tok_embeddings_forward': 34.28792953,\n",
       " 'layers.0_forward': 46.00691795,\n",
       " 'layers.1_forward': 42.56987572,\n",
       " 'layers.2_forward': 47.08123207,\n",
       " 'layers.3_forward': 50.20260811,\n",
       " 'layers.4_forward': 40.91787338,\n",
       " 'layers.5_forward': 46.52118683,\n",
       " 'layers.6_forward': 46.21648788,\n",
       " 'layers.7_forward': 54.28791046,\n",
       " 'layers.8_forward': 49.84760284,\n",
       " 'layers.9_forward': 48.44427109,\n",
       " 'norm_forward': 4.799366,\n",
       " 'output_forward': 9.73892212,\n",
       " 'output_backward': 22.17721939,\n",
       " 'norm_backward': 5.4872036,\n",
       " 'layers.9_backward': 73.48823547,\n",
       " 'layers.8_backward': 71.13981247,\n",
       " 'layers.7_backward': 73.37236404,\n",
       " 'layers.6_backward': 71.80953026,\n",
       " 'layers.5_backward': 77.63886452,\n",
       " 'layers.4_backward': 68.57252121,\n",
       " 'layers.3_backward': 72.41821289,\n",
       " 'layers.2_backward': 69.18549538,\n",
       " 'layers.1_backward': 67.68250465,\n",
       " 'layers.0_backward': 66.80393219,\n",
       " 'optimizer_step': 32.93442726,\n",
       " 'forward': 520.92218398,\n",
       " 'backward': 739.77589607}"
      ]
     },
     "execution_count": 7,
     "metadata": {},
     "output_type": "execute_result"
    }
   ],
   "source": [
    "layer_times"
   ]
  },
  {
   "cell_type": "code",
   "execution_count": 35,
   "metadata": {},
   "outputs": [
    {
     "data": {
      "text/plain": [
       "3.7295302731289866"
      ]
     },
     "execution_count": 35,
     "metadata": {},
     "output_type": "execute_result"
    }
   ],
   "source": [
    "import numpy as np\n",
    "np.abs(312.9992485046387+207.9613208770752+29.09231185913086 - (325.183+217.091+29.088))/(325.183+217.091+29.088)*100"
   ]
  },
  {
   "cell_type": "code",
   "execution_count": 37,
   "metadata": {},
   "outputs": [
    {
     "data": {
      "text/plain": [
       "4.205461821505642"
      ]
     },
     "execution_count": 37,
     "metadata": {},
     "output_type": "execute_result"
    }
   ],
   "source": [
    "np.abs(207.9613208770752-(217.091))/(217.091)*100"
   ]
  },
  {
   "cell_type": "code",
   "execution_count": 36,
   "metadata": {},
   "outputs": [
    {
     "data": {
      "text/plain": [
       "3.746736912864855"
      ]
     },
     "execution_count": 36,
     "metadata": {},
     "output_type": "execute_result"
    }
   ],
   "source": [
    "np.abs(312.9992485046387 - (325.183))/(325.183)*100"
   ]
  },
  {
   "cell_type": "code",
   "execution_count": 1,
   "metadata": {},
   "outputs": [],
   "source": [
    "res2 = {'tok_embeddings_forward': [6619.730710983276, 11.753320693969727, 36.00955009460449, 3.8423538208007812, 57.24668502807617], 'layers.0_forward': [260.9412670135498, 47.478437423706055, 42.42730140686035, 43.100833892822266, 40.10415077209473], 'layers.1_forward': [43.23911666870117, 46.250343322753906, 46.87976837158203, 48.55608940124512, 38.75994682312012], 'layers.2_forward': [40.58551788330078, 41.19563102722168, 46.47111892700195, 45.1507568359375, 52.320003509521484], 'layers.3_forward': [45.99261283874512, 48.134565353393555, 49.1788387298584, 49.67951774597168, 40.84205627441406], 'layers.4_forward': [39.8099422454834, 42.42062568664551, 48.40970039367676, 39.22605514526367, 52.65665054321289], 'layers.5_forward': [44.634103775024414, 40.99440574645996, 46.76222801208496, 42.008161544799805, 50.36783218383789], 'layers.6_forward': [46.36693000793457, 45.00985145568848, 56.67924880981445, 41.07832908630371, 51.89228057861328], 'layers.7_forward': [42.443275451660156, 43.75720024108887, 42.85168647766113, 49.285888671875, 50.76265335083008], 'layers.8_forward': [38.26022148132324, 46.27108573913574, 43.260812759399414, 48.779964447021484, 49.844980239868164], 'layers.9_forward': [47.080278396606445, 43.5490608215332, 42.94466972351074, 49.02482032775879, 50.8725643157959], 'norm_forward': [3.9222240447998047, 2.892017364501953, 1.1434555053710938, 1.86920166015625, 1.5482902526855469], 'output_forward': [17.899513244628906, 15.82646369934082, 7.723093032836914, 13.297557830810547, 7.607698440551758], 'output_backward': [24.564504623413086, 22.426605224609375, 19.197702407836914, 24.500370025634766, 16.511917114257812], 'norm_backward': [20.667314529418945, 5.135059356689453, 2.6891231536865234, 4.900455474853516, 3.7593841552734375], 'layers.9_backward': [80.03401756286621, 70.36662101745605, 66.96581840515137, 69.1981315612793, 69.1671371459961], 'layers.8_backward': [66.48826599121094, 71.84028625488281, 72.5865364074707, 65.78612327575684, 65.23680686950684], 'layers.7_backward': [75.20222663879395, 75.08707046508789, 68.27735900878906, 70.77431678771973, 69.81348991394043], 'layers.6_backward': [74.33462142944336, 69.82254981994629, 75.5467414855957, 69.78631019592285, 68.82071495056152], 'layers.5_backward': [69.44060325622559, 63.09652328491211, 71.32315635681152, 68.66860389709473, 73.99439811706543], 'layers.4_backward': [70.88470458984375, 68.00389289855957, 65.49859046936035, 70.66893577575684, 73.68707656860352], 'layers.3_backward': [67.14677810668945, 68.31622123718262, 65.44208526611328, 68.66216659545898, 70.40524482727051], 'layers.2_backward': [65.47999382019043, 67.63672828674316, 62.935829162597656, 63.927412033081055, 67.43979454040527], 'layers.1_backward': [58.493852615356445, 70.11294364929199, 69.83423233032227, 65.17744064331055, 69.56362724304199], 'layers.0_backward': [58.18748474121094, 70.3892707824707, 68.75467300415039, 69.07439231872559, 68.65406036376953], 'optimizer_step': [526.2196063995361, 25.03037452697754, 24.311304092407227, 18.32103729248047, 31.64196014404297]}"
   ]
  },
  {
   "cell_type": "code",
   "execution_count": 5,
   "metadata": {},
   "outputs": [
    {
     "data": {
      "text/plain": [
       "([39.8099422454834,\n",
       "  42.42062568664551,\n",
       "  48.40970039367676,\n",
       "  39.22605514526367,\n",
       "  52.65665054321289],\n",
       " 5)"
      ]
     },
     "execution_count": 5,
     "metadata": {},
     "output_type": "execute_result"
    }
   ],
   "source": [
    "res2['layers.4_forward'], len(res2['tok_embeddings_forward'])"
   ]
  },
  {
   "cell_type": "code",
   "execution_count": null,
   "metadata": {},
   "outputs": [],
   "source": []
  },
  {
   "cell_type": "code",
   "execution_count": 26,
   "metadata": {},
   "outputs": [
    {
     "data": {
      "text/plain": [
       "[1730920625.3386142,\n",
       " 1730920632.22717,\n",
       " 1730920632.2271996,\n",
       " 1730920633.7279623,\n",
       " 1730920633.7279897,\n",
       " 1730920633.7280066,\n",
       " 1730920635.3418937,\n",
       " 1730920635.3419216,\n",
       " 1730920635.3419366,\n",
       " 1730920635.3419514,\n",
       " 1730920636.888489,\n",
       " 1730920636.8885565,\n",
       " 1730920636.8885984,\n",
       " 1730920636.8886368,\n",
       " 1730920636.8886738]"
      ]
     },
     "execution_count": 26,
     "metadata": {},
     "output_type": "execute_result"
    }
   ],
   "source": [
    "res['tok_embeddings_forward_start']"
   ]
  },
  {
   "cell_type": "code",
   "execution_count": 6,
   "metadata": {},
   "outputs": [
    {
     "data": {
      "text/plain": [
       "{'b': 2}"
      ]
     },
     "execution_count": 6,
     "metadata": {},
     "output_type": "execute_result"
    }
   ],
   "source": [
    "a = {'a': 1, 'b': 2}\n",
    "del a['a']\n",
    "a"
   ]
  },
  {
   "cell_type": "code",
   "execution_count": 20,
   "metadata": {},
   "outputs": [],
   "source": [
    "res_mem = {'activation': {'tok_embeddings': 0.015625, 'layers.0': 215.06642150878906, 'layers.1': 214.06642150878906, 'layers.2': 214.06642150878906, 'layers.3': 214.06642150878906, 'layers.4': 214.06642150878906, 'layers.5': 214.06642150878906, 'layers.6': 214.06642150878906, 'layers.7': 214.06642150878906, 'layers.8': 214.06642150878906, 'layers.9': 214.06642150878906, 'layers.10': 214.06642150878906, 'layers.11': 214.06642150878906, 'layers.12': 214.06642150878906, 'layers.13': 214.06642150878906, 'layers.14': 214.06642150878906, 'layers.15': 214.06642150878906, 'layers.16': 214.06642150878906, 'layers.17': 214.06642150878906, 'layers.18': 214.06642150878906, 'layers.19': 214.06642150878906, 'layers.20': 214.06642150878906, 'layers.21': 214.06642150878906, 'layers.22': 214.06642150878906, 'layers.23': 214.06642150878906, 'layers.24': 214.06642150878906, 'layers.25': 214.06642150878906, 'layers.26': 214.06642150878906, 'layers.27': 214.06642150878906, 'layers.28': 214.06642150878906, 'layers.29': 214.06642150878906, 'layers.30': 214.06642150878906, 'layers.31': 214.06642150878906, 'norm': 16.001953125, 'output': 32.0}, 'weight': {'tok_embeddings': 125.0, 'layers.0': 193.03125, 'layers.1': 193.03125, 'layers.2': 193.03125, 'layers.3': 193.03125, 'layers.4': 193.03125, 'layers.5': 193.03125, 'layers.6': 193.03125, 'layers.7': 193.03125, 'layers.8': 193.03125, 'layers.9': 193.03125, 'layers.10': 193.03125, 'layers.11': 193.03125, 'layers.12': 193.03125, 'layers.13': 193.03125, 'layers.14': 193.03125, 'layers.15': 193.03125, 'layers.16': 193.03125, 'layers.17': 193.03125, 'layers.18': 193.03125, 'layers.19': 193.03125, 'layers.20': 193.03125, 'layers.21': 193.03125, 'layers.22': 193.03125, 'layers.23': 193.03125, 'layers.24': 193.03125, 'layers.25': 193.03125, 'layers.26': 193.03125, 'layers.27': 193.03125, 'layers.28': 193.03125, 'layers.29': 193.03125, 'layers.30': 193.03125, 'layers.31': 193.03125, 'norm': 0.015625, 'output': 125.0}, 'grad': {'tok_embeddings': 500.0, 'layers.0': 193.03125, 'layers.1': 193.03125, 'layers.2': 193.03125, 'layers.3': 193.03125, 'layers.4': 193.03125, 'layers.5': 193.03125, 'layers.6': 193.03125, 'layers.7': 193.03125, 'layers.8': 193.03125, 'layers.9': 193.03125, 'layers.10': 193.03125, 'layers.11': 193.03125, 'layers.12': 193.03125, 'layers.13': 193.03125, 'layers.14': 193.03125, 'layers.15': 193.03125, 'layers.16': 193.03125, 'layers.17': 193.03125, 'layers.18': 193.03125, 'layers.19': 193.03125, 'layers.20': 193.03125, 'layers.21': 193.03125, 'layers.22': 193.03125, 'layers.23': 193.03125, 'layers.24': 193.03125, 'layers.25': 193.03125, 'layers.26': 193.03125, 'layers.27': 193.03125, 'layers.28': 193.03125, 'layers.29': 193.03125, 'layers.30': 193.03125, 'layers.31': 193.03125, 'norm': 0.015625, 'output': 125.0}, 'optimizer': {'tok_embeddings': 250.00000381469727, 'layers.0': 386.0625343322754, 'layers.1': 386.0625343322754, 'layers.2': 386.0625343322754, 'layers.3': 386.0625343322754, 'layers.4': 386.0625343322754, 'layers.5': 386.0625343322754, 'layers.6': 386.0625343322754, 'layers.7': 386.0625343322754, 'layers.8': 386.0625343322754, 'layers.9': 386.0625343322754, 'layers.10': 386.0625343322754, 'layers.11': 386.0625343322754, 'layers.12': 386.0625343322754, 'layers.13': 386.0625343322754, 'layers.14': 386.0625343322754, 'layers.15': 386.0625343322754, 'layers.16': 386.0625343322754, 'layers.17': 386.0625343322754, 'layers.18': 386.0625343322754, 'layers.19': 386.0625343322754, 'layers.20': 386.0625343322754, 'layers.21': 386.0625343322754, 'layers.22': 386.0625343322754, 'layers.23': 386.0625343322754, 'layers.24': 386.0625343322754, 'layers.25': 386.0625343322754, 'layers.26': 386.0625343322754, 'layers.27': 386.0625343322754, 'layers.28': 386.0625343322754, 'layers.29': 386.0625343322754, 'layers.30': 386.0625343322754, 'layers.31': 386.0625343322754, 'norm': 0.031253814697265625, 'output': 250.00000381469727}}"
   ]
  },
  {
   "cell_type": "code",
   "execution_count": 65,
   "metadata": {},
   "outputs": [],
   "source": [
    "res = {'activation': {'tok_embeddings': 0.015625, 'layers.0': 215.06642150878906, 'layers.1': 214.06642150878906, 'layers.2': 214.06642150878906, 'layers.3': 214.06642150878906, 'layers.4': 214.06642150878906, 'layers.5': 214.06642150878906, 'layers.6': 214.06642150878906, 'layers.7': 214.06642150878906, 'layers.8': 214.06642150878906, 'layers.9': 214.06642150878906, 'layers.10': 214.06642150878906, 'layers.11': 214.06642150878906, 'layers.12': 214.06642150878906, 'layers.13': 214.06642150878906, 'layers.14': 214.06642150878906, 'layers.15': 214.06642150878906, 'layers.16': 214.06642150878906, 'layers.17': 214.06642150878906, 'layers.18': 214.06642150878906, 'layers.19': 214.06642150878906, 'layers.20': 214.06642150878906, 'layers.21': 214.06642150878906, 'layers.22': 214.06642150878906, 'layers.23': 214.06642150878906, 'layers.24': 214.06642150878906, 'layers.25': 214.06642150878906, 'layers.26': 214.06642150878906, 'layers.27': 214.06642150878906, 'layers.28': 214.06642150878906, 'layers.29': 214.06642150878906, 'layers.30': 214.06642150878906, 'layers.31': 214.06642150878906, 'norm': 16.001953125, 'output': 32.0}, 'weight': {'tok_embeddings': 125.0, 'layers.0': 193.03125, 'layers.1': 193.03125, 'layers.2': 193.03125, 'layers.3': 193.03125, 'layers.4': 193.03125, 'layers.5': 193.03125, 'layers.6': 193.03125, 'layers.7': 193.03125, 'layers.8': 193.03125, 'layers.9': 193.03125, 'layers.10': 193.03125, 'layers.11': 193.03125, 'layers.12': 193.03125, 'layers.13': 193.03125, 'layers.14': 193.03125, 'layers.15': 193.03125, 'layers.16': 193.03125, 'layers.17': 193.03125, 'layers.18': 193.03125, 'layers.19': 193.03125, 'layers.20': 193.03125, 'layers.21': 193.03125, 'layers.22': 193.03125, 'layers.23': 193.03125, 'layers.24': 193.03125, 'layers.25': 193.03125, 'layers.26': 193.03125, 'layers.27': 193.03125, 'layers.28': 193.03125, 'layers.29': 193.03125, 'layers.30': 193.03125, 'layers.31': 193.03125, 'norm': 0.015625, 'output': 125.0}, 'grad': {'tok_embeddings': 500.0, 'layers.0': 193.03125, 'layers.1': 193.03125, 'layers.2': 193.03125, 'layers.3': 193.03125, 'layers.4': 193.03125, 'layers.5': 193.03125, 'layers.6': 193.03125, 'layers.7': 193.03125, 'layers.8': 193.03125, 'layers.9': 193.03125, 'layers.10': 193.03125, 'layers.11': 193.03125, 'layers.12': 193.03125, 'layers.13': 193.03125, 'layers.14': 193.03125, 'layers.15': 193.03125, 'layers.16': 193.03125, 'layers.17': 193.03125, 'layers.18': 193.03125, 'layers.19': 193.03125, 'layers.20': 193.03125, 'layers.21': 193.03125, 'layers.22': 193.03125, 'layers.23': 193.03125, 'layers.24': 193.03125, 'layers.25': 193.03125, 'layers.26': 193.03125, 'layers.27': 193.03125, 'layers.28': 193.03125, 'layers.29': 193.03125, 'layers.30': 193.03125, 'layers.31': 193.03125, 'norm': 0.015625, 'output': 125.0}, 'optimizer': {'tok_embeddings': 250.00000381469727, 'layers.0': 386.0625343322754, 'layers.1': 386.0625343322754, 'layers.2': 386.0625343322754, 'layers.3': 386.0625343322754, 'layers.4': 386.0625343322754, 'layers.5': 386.0625343322754, 'layers.6': 386.0625343322754, 'layers.7': 386.0625343322754, 'layers.8': 386.0625343322754, 'layers.9': 386.0625343322754, 'layers.10': 386.0625343322754, 'layers.11': 386.0625343322754, 'layers.12': 386.0625343322754, 'layers.13': 386.0625343322754, 'layers.14': 386.0625343322754, 'layers.15': 386.0625343322754, 'layers.16': 386.0625343322754, 'layers.17': 386.0625343322754, 'layers.18': 386.0625343322754, 'layers.19': 386.0625343322754, 'layers.20': 386.0625343322754, 'layers.21': 386.0625343322754, 'layers.22': 386.0625343322754, 'layers.23': 386.0625343322754, 'layers.24': 386.0625343322754, 'layers.25': 386.0625343322754, 'layers.26': 386.0625343322754, 'layers.27': 386.0625343322754, 'layers.28': 386.0625343322754, 'layers.29': 386.0625343322754, 'layers.30': 386.0625343322754, 'layers.31': 386.0625343322754, 'norm': 0.031253814697265625, 'output': 250.00000381469727}, 'total': {'weight': 6427.015625, 'grad': 6802.015625, 'optimizer': 12854.032360076904, 'activation': 6899.14306640625, 'total_memory': 33308.0}, 'layer_memory_total_mb': [987.1914558410645, 986.1914558410645, 986.1914558410645, 986.1914558410645, 986.1914558410645, 986.1914558410645, 986.1914558410645, 986.1914558410645, 986.1914558410645, 986.1914558410645, 986.1914558410645, 986.1914558410645, 986.1914558410645, 986.1914558410645, 986.1914558410645, 986.1914558410645, 986.1914558410645, 986.1914558410645, 986.1914558410645, 986.1914558410645, 986.1914558410645, 986.1914558410645, 986.1914558410645, 986.1914558410645, 986.1914558410645, 986.1914558410645, 986.1914558410645, 986.1914558410645, 986.1914558410645, 986.1914558410645, 986.1914558410645, 986.1914558410645]}"
   ]
  },
  {
   "cell_type": "code",
   "execution_count": 66,
   "metadata": {},
   "outputs": [
    {
     "data": {
      "text/plain": [
       "dict_keys(['activation', 'weight', 'grad', 'optimizer', 'total', 'layer_memory_total_mb'])"
      ]
     },
     "execution_count": 66,
     "metadata": {},
     "output_type": "execute_result"
    }
   ],
   "source": [
    "res.keys()"
   ]
  },
  {
   "cell_type": "code",
   "execution_count": 67,
   "metadata": {},
   "outputs": [
    {
     "data": {
      "text/plain": [
       "(31559.126586914062, 33308.0, 32982.206676483154)"
      ]
     },
     "execution_count": 67,
     "metadata": {},
     "output_type": "execute_result"
    }
   ],
   "source": [
    "sum(res['layer_memory_total_mb']), res['total']['total_memory'], sum(res['total'].values())-res['total']['total_memory']"
   ]
  },
  {
   "cell_type": "code",
   "execution_count": 36,
   "metadata": {},
   "outputs": [
    {
     "data": {
      "text/plain": [
       "6899.14306640625"
      ]
     },
     "execution_count": 36,
     "metadata": {},
     "output_type": "execute_result"
    }
   ],
   "source": [
    "total_mem = 0\n",
    "for k, v in res_mem.items():\n",
    "    if \"activation\" in k:\n",
    "        for k2, v2 in v.items():\n",
    "            # if 'tok_embeddings' in k2:\n",
    "            total_mem += v2\n",
    "    \n",
    "total_mem"
   ]
  },
  {
   "cell_type": "code",
   "execution_count": 18,
   "metadata": {},
   "outputs": [
    {
     "data": {
      "text/plain": [
       "601952256"
      ]
     },
     "execution_count": 18,
     "metadata": {},
     "output_type": "execute_result"
    }
   ],
   "source": [
    "sum([98566144, 50601984, 50601984, 50601984, 50601984, 50601984, 50601984, 50601984, 50601984, 98570240])"
   ]
  },
  {
   "cell_type": "code",
   "execution_count": 38,
   "metadata": {},
   "outputs": [],
   "source": [
    "res = {'step': 2095.2248573303223, 'data_loading': 5.436499913533528, 'tok_embeddings_forward': 13.66440455118815, 'layers.0_forward': 21.952231725056965, 'layers.1_forward': 19.165913263956707, 'layers.2_forward': 19.306103388468426, 'layers.3_forward': 19.777377446492512, 'layers.4_forward': 19.378264745076496, 'layers.5_forward': 24.243911107381184, 'layers.6_forward': 20.86671193440755, 'layers.7_forward': 19.440253575642902, 'layers.8_forward': 19.423882166544598, 'layers.9_forward': 19.42269007364909, 'layers.10_forward': 23.24533462524414, 'layers.11_forward': 21.59857749938965, 'layers.12_forward': 19.36181386311849, 'layers.13_forward': 19.41545804341634, 'layers.14_forward': 19.405364990234375, 'layers.15_forward': 23.089011510213215, 'layers.16_forward': 23.061831792195637, 'layers.17_forward': 19.421100616455078, 'layers.18_forward': 19.307295481363933, 'layers.19_forward': 19.40313975016276, 'layers.20_forward': 21.31970723470052, 'layers.21_forward': 23.33664894104004, 'layers.22_forward': 20.61009407043457, 'layers.23_forward': 19.30578549702962, 'layers.24_forward': 19.36658223470052, 'layers.25_forward': 19.36181386311849, 'layers.26_forward': 21.26614252726237, 'layers.27_forward': 22.587299346923828, 'layers.28_forward': 20.064830780029297, 'layers.29_forward': 19.358714421590168, 'layers.30_forward': 19.465525945027668, 'layers.31_forward': 21.327654520670574, 'norm_forward': 0.7190704345703125, 'output_forward': 6.4698060353597, 'output_backward': 10.321696599324545, 'norm_backward': 2.109686533610026, 'layers.31_backward': 31.952540079752605, 'layers.30_backward': 31.937360763549805, 'layers.29_backward': 34.189701080322266, 'layers.28_backward': 33.577919006347656, 'layers.27_backward': 33.24039777119955, 'layers.26_backward': 31.49278958638509, 'layers.25_backward': 31.14016850789388, 'layers.24_backward': 29.78197733561198, 'layers.23_backward': 31.511545181274414, 'layers.22_backward': 31.524101893107098, 'layers.21_backward': 31.437397003173828, 'layers.20_backward': 31.476259231567383, 'layers.19_backward': 31.662940979003906, 'layers.18_backward': 31.2653382619222, 'layers.17_backward': 29.86621856689453, 'layers.16_backward': 31.441529591878254, 'layers.15_backward': 31.33535385131836, 'layers.14_backward': 33.24262301127116, 'layers.13_backward': 31.80519739786784, 'layers.12_backward': 31.31246566772461, 'layers.11_backward': 31.139532725016277, 'layers.10_backward': 29.86907958984375, 'layers.9_backward': 31.84819221496582, 'layers.8_backward': 31.075159708658855, 'layers.7_backward': 32.44717915852865, 'layers.6_backward': 31.542301177978516, 'layers.5_backward': 31.51424725850423, 'layers.4_backward': 31.995693842569988, 'layers.3_backward': 29.737472534179688, 'layers.2_backward': 31.662782033284504, 'layers.1_backward': 30.50676981608073, 'layers.0_backward': 31.740188598632812, 'tok_embeddings_backward': 0.020265579223632812, 'optimizer_step': 201.28599802652994}"
   ]
  },
  {
   "cell_type": "code",
   "execution_count": 39,
   "metadata": {},
   "outputs": [
    {
     "data": {
      "text/plain": [
       "dict_keys(['step', 'data_loading', 'tok_embeddings_forward', 'layers.0_forward', 'layers.1_forward', 'layers.2_forward', 'layers.3_forward', 'layers.4_forward', 'layers.5_forward', 'layers.6_forward', 'layers.7_forward', 'layers.8_forward', 'layers.9_forward', 'layers.10_forward', 'layers.11_forward', 'layers.12_forward', 'layers.13_forward', 'layers.14_forward', 'layers.15_forward', 'layers.16_forward', 'layers.17_forward', 'layers.18_forward', 'layers.19_forward', 'layers.20_forward', 'layers.21_forward', 'layers.22_forward', 'layers.23_forward', 'layers.24_forward', 'layers.25_forward', 'layers.26_forward', 'layers.27_forward', 'layers.28_forward', 'layers.29_forward', 'layers.30_forward', 'layers.31_forward', 'norm_forward', 'output_forward', 'output_backward', 'norm_backward', 'layers.31_backward', 'layers.30_backward', 'layers.29_backward', 'layers.28_backward', 'layers.27_backward', 'layers.26_backward', 'layers.25_backward', 'layers.24_backward', 'layers.23_backward', 'layers.22_backward', 'layers.21_backward', 'layers.20_backward', 'layers.19_backward', 'layers.18_backward', 'layers.17_backward', 'layers.16_backward', 'layers.15_backward', 'layers.14_backward', 'layers.13_backward', 'layers.12_backward', 'layers.11_backward', 'layers.10_backward', 'layers.9_backward', 'layers.8_backward', 'layers.7_backward', 'layers.6_backward', 'layers.5_backward', 'layers.4_backward', 'layers.3_backward', 'layers.2_backward', 'layers.1_backward', 'layers.0_backward', 'tok_embeddings_backward', 'optimizer_step'])"
      ]
     },
     "execution_count": 39,
     "metadata": {},
     "output_type": "execute_result"
    }
   ],
   "source": [
    "res.keys()"
   ]
  },
  {
   "cell_type": "code",
   "execution_count": 26,
   "metadata": {},
   "outputs": [
    {
     "name": "stdout",
     "output_type": "stream",
     "text": [
      "3469.616333643595 3678.920030593872\n"
     ]
    }
   ],
   "source": [
    "total_time = 0\n",
    "for k,v in res.items():\n",
    "    if k != 'step':\n",
    "        total_time += v\n",
    "        \n",
    "print(total_time, res['step'])"
   ]
  },
  {
   "cell_type": "code",
   "execution_count": 34,
   "metadata": {},
   "outputs": [
    {
     "data": {
      "text/plain": [
       "18.39460015296936"
      ]
     },
     "execution_count": 34,
     "metadata": {},
     "output_type": "execute_result"
    }
   ],
   "source": [
    "3678.920030593872/1000*5"
   ]
  },
  {
   "cell_type": "code",
   "execution_count": 33,
   "metadata": {},
   "outputs": [
    {
     "data": {
      "text/plain": [
       "18.173000000002503"
      ]
     },
     "execution_count": 33,
     "metadata": {},
     "output_type": "execute_result"
    }
   ],
   "source": [
    "import time\n",
    "\n",
    "# conver time with this format \"09:59:55,242\" to seconds \n",
    "def time_to_seconds(time_str):\n",
    "    h, m, s = time_str.split(':')\n",
    "    s, ms = s.split(',')\n",
    "    return int(h)*3600 + int(m)*60 + int(s) + int(ms)/1000\n",
    "\n",
    "time_to_seconds('10:00:13,415') - time_to_seconds('09:59:55,242')"
   ]
  },
  {
   "cell_type": "markdown",
   "metadata": {},
   "source": [
    "# metis representation"
   ]
  },
  {
   "cell_type": "code",
   "execution_count": 1,
   "metadata": {},
   "outputs": [],
   "source": [
    "from dataclasses import dataclass, field\n",
    "from typing import List\n",
    "\n",
    "@dataclass\n",
    "class Parameters:\n",
    "    total_parameters_bytes: int\n",
    "    parameters_per_layer_bytes: List[int]\n",
    "    activation_parameters_bytes: List[int]\n",
    "\n",
    "@dataclass\n",
    "class Model:\n",
    "    model_name: str\n",
    "    num_layers: int\n",
    "    parameters: Parameters\n",
    "\n",
    "@dataclass\n",
    "class ExecutionTime:\n",
    "    total_time_ms: float\n",
    "    batch_generator_time_ms: float\n",
    "    layernorm_grads_all_reduce_time_ms: float\n",
    "    embedding_grads_all_reduce_time_ms: float\n",
    "    optimizer_time_ms: float\n",
    "    layer_compute_total_ms: List[float]\n",
    "\n",
    "@dataclass\n",
    "class ExecutionMemory:\n",
    "    total_memory_mb: float\n",
    "    layer_memory_total_mb: List[float]\n",
    "\n",
    "@dataclass\n",
    "class ModelMetrics:\n",
    "    model: Model\n",
    "    execution_time: ExecutionTime\n",
    "    execution_memory: ExecutionMemory"
   ]
  },
  {
   "cell_type": "code",
   "execution_count": null,
   "metadata": {},
   "outputs": [],
   "source": [
    "import json\n",
    "from dataclasses import asdict\n",
    "\n",
    "# Example instantiation\n",
    "def get_metis_object(\n",
    "    model_name: str, number_of_layers: int, time_profile: dict, memory_profile: dict\n",
    ") -> ModelMetrics:\n",
    "\n",
    "    model_metrics = ModelMetrics(\n",
    "        model=Model(\n",
    "            model_name=model_name,\n",
    "            num_layers=number_of_layers,\n",
    "            parameters=Parameters(\n",
    "                total_parameters_bytes=memory_profile['total_parameters_bytes'],\n",
    "                parameters_per_layer_bytes=memory_profile['parameters_per_layer_bytes'],\n",
    "                activation_parameters_bytes=memory_profile['activation_parameters_bytes'],\n",
    "            ),\n",
    "        ),\n",
    "        execution_time=ExecutionTime(\n",
    "            total_time_ms=time_profile['total_time_ms'],\n",
    "            batch_generator_time_ms=time_profile['batch_generator_time_ms'],\n",
    "            layernorm_grads_all_reduce_time_ms=None,\n",
    "            embedding_grads_all_reduce_time_ms=None,\n",
    "            optimizer_time_ms=time_profile['optimizer_time_ms'],\n",
    "            layer_compute_total_ms=time_profile['layer_compute_total_ms'],\n",
    "        ),\n",
    "        execution_memory=ExecutionMemory(\n",
    "            total_memory_mb=memory_profile['total_memory_mb'],\n",
    "            layer_memory_total_mb=memory_profile['layer_memory_total_mb'],\n",
    "        ),\n",
    "    )\n",
    "    \n",
    "    model_metrics_json = json.dumps(asdict(model_metrics), indent=2)\n",
    "\n",
    "    return model_metrics_json"
   ]
  },
  {
   "cell_type": "code",
   "execution_count": 54,
   "metadata": {},
   "outputs": [
    {
     "name": "stdout",
     "output_type": "stream",
     "text": [
      "{\n",
      "  \"model\": {\n",
      "    \"model_name\": \"GPT3\",\n",
      "    \"num_layers\": 10,\n",
      "    \"parameters\": {\n",
      "      \"total_parameters_bytes\": 601952256,\n",
      "      \"parameters_per_layer_bytes\": [\n",
      "        98566144,\n",
      "        50601984,\n",
      "        50601984,\n",
      "        50601984,\n",
      "        50601984,\n",
      "        50601984,\n",
      "        50601984,\n",
      "        50601984,\n",
      "        50601984,\n",
      "        98570240\n",
      "      ],\n",
      "      \"activation_parameters_bytes\": [\n",
      "        98566144,\n",
      "        50601984,\n",
      "        50601984,\n",
      "        50601984,\n",
      "        50601984,\n",
      "        50601984,\n",
      "        50601984,\n",
      "        50601984,\n",
      "        50601984,\n",
      "        98570240\n",
      "      ]\n",
      "    }\n",
      "  },\n",
      "  \"execution_time\": {\n",
      "    \"total_time_ms\": 1137.559413909912,\n",
      "    \"batch_generator_time_ms\": 934.1955184936523,\n",
      "    \"layernorm_grads_all_reduce_time_ms\": 459.5518112182617,\n",
      "    \"embedding_grads_all_reduce_time_ms\": 37.360191345214844,\n",
      "    \"optimizer_time_ms\": 10814.285278320312,\n",
      "    \"layer_compute_total_ms\": [\n",
      "      1.4263919830322267,\n",
      "      10.216951370239258,\n",
      "      10.216951370239258,\n",
      "      10.216951370239258,\n",
      "      10.216951370239258,\n",
      "      10.216951370239258,\n",
      "      10.216951370239258,\n",
      "      10.216951370239258,\n",
      "      10.216951370239258,\n",
      "      0.3376007080078125\n",
      "    ]\n",
      "  },\n",
      "  \"execution_memory\": {\n",
      "    \"total_memory_mb\": 15150.69,\n",
      "    \"layer_memory_total_mb\": [\n",
      "      2366.8,\n",
      "      1195.9,\n",
      "      1195.9,\n",
      "      1195.9,\n",
      "      1195.9,\n",
      "      1195.9,\n",
      "      1195.9,\n",
      "      1195.9,\n",
      "      1195.9,\n",
      "      3216.7\n",
      "    ]\n",
      "  }\n",
      "}\n"
     ]
    }
   ],
   "source": [
    "import json\n",
    "from dataclasses import asdict\n",
    "\n",
    "# Convert the dataclass instance to a dictionary and then to JSON\n",
    "model_metrics_json = json.dumps(asdict(model_metrics), indent=2)\n",
    "\n",
    "print(model_metrics_json)\n"
   ]
  }
 ],
 "metadata": {
  "kernelspec": {
   "display_name": "titan",
   "language": "python",
   "name": "python3"
  },
  "language_info": {
   "codemirror_mode": {
    "name": "ipython",
    "version": 3
   },
   "file_extension": ".py",
   "mimetype": "text/x-python",
   "name": "python",
   "nbconvert_exporter": "python",
   "pygments_lexer": "ipython3",
   "version": "3.10.15"
  }
 },
 "nbformat": 4,
 "nbformat_minor": 2
}
