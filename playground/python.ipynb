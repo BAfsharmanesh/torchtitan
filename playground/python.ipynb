{
 "cells": [
  {
   "cell_type": "markdown",
   "metadata": {},
   "source": [
    "# dic setdefault"
   ]
  },
  {
   "cell_type": "code",
   "execution_count": 1,
   "metadata": {},
   "outputs": [],
   "source": [
    "timings = {}"
   ]
  },
  {
   "cell_type": "code",
   "execution_count": 6,
   "metadata": {},
   "outputs": [],
   "source": [
    "timings.setdefault(f\"{1}_{2}_end\", []).append(2)"
   ]
  },
  {
   "cell_type": "code",
   "execution_count": 11,
   "metadata": {},
   "outputs": [
    {
     "data": {
      "text/plain": [
       "(True, 'ed.')"
      ]
     },
     "execution_count": 11,
     "metadata": {},
     "output_type": "execute_result"
    }
   ],
   "source": [
    "'ed._end'.endswith('_end'), 'ed._end'.replace('_end', '')\n"
   ]
  },
  {
   "cell_type": "markdown",
   "metadata": {},
   "source": [
    "# contextmanager"
   ]
  },
  {
   "cell_type": "code",
   "execution_count": 13,
   "metadata": {},
   "outputs": [
    {
     "name": "stdout",
     "output_type": "stream",
     "text": [
      "Timings for each iteration: [1.0005130767822266, 1.001039981842041, 1.001028299331665, 1.0010290145874023, 1.0008230209350586]\n"
     ]
    }
   ],
   "source": [
    "import time\n",
    "from contextlib import contextmanager\n",
    "\n",
    "class IterationTimer:\n",
    "    def __init__(self):\n",
    "        self.timings = []\n",
    "\n",
    "    @contextmanager\n",
    "    def time_iteration(self):\n",
    "        start_time = time.time()\n",
    "        yield  # Yield control back to the calling context\n",
    "        end_time = time.time()\n",
    "        # Calculate and store the duration\n",
    "        self.timings.append(end_time - start_time)\n",
    "\n",
    "# Usage\n",
    "timer = IterationTimer()\n",
    "\n",
    "# Simulate a loop where we time each iteration\n",
    "for _ in range(5):\n",
    "    with timer.time_iteration():\n",
    "        # Simulate some work\n",
    "        time.sleep(1)\n",
    "\n",
    "print(\"Timings for each iteration:\", timer.timings)\n"
   ]
  }
 ],
 "metadata": {
  "kernelspec": {
   "display_name": "titan",
   "language": "python",
   "name": "python3"
  },
  "language_info": {
   "codemirror_mode": {
    "name": "ipython",
    "version": 3
   },
   "file_extension": ".py",
   "mimetype": "text/x-python",
   "name": "python",
   "nbconvert_exporter": "python",
   "pygments_lexer": "ipython3",
   "version": "3.10.15"
  }
 },
 "nbformat": 4,
 "nbformat_minor": 2
}
