{
 "cells": [
  {
   "cell_type": "markdown",
   "metadata": {},
   "source": [
    "# dic setdefault"
   ]
  },
  {
   "cell_type": "code",
   "execution_count": 1,
   "metadata": {},
   "outputs": [],
   "source": [
    "timings = {}"
   ]
  },
  {
   "cell_type": "code",
   "execution_count": 6,
   "metadata": {},
   "outputs": [],
   "source": [
    "timings.setdefault(f\"{1}_{2}_end\", []).append(2)"
   ]
  },
  {
   "cell_type": "code",
   "execution_count": 11,
   "metadata": {},
   "outputs": [
    {
     "data": {
      "text/plain": [
       "(True, 'ed.')"
      ]
     },
     "execution_count": 11,
     "metadata": {},
     "output_type": "execute_result"
    }
   ],
   "source": [
    "'ed._end'.endswith('_end'), 'ed._end'.replace('_end', '')\n"
   ]
  },
  {
   "cell_type": "markdown",
   "metadata": {},
   "source": [
    "# contextmanager"
   ]
  },
  {
   "cell_type": "code",
   "execution_count": 13,
   "metadata": {},
   "outputs": [
    {
     "name": "stdout",
     "output_type": "stream",
     "text": [
      "Timings for each iteration: [1.0005130767822266, 1.001039981842041, 1.001028299331665, 1.0010290145874023, 1.0008230209350586]\n"
     ]
    }
   ],
   "source": [
    "import time\n",
    "from contextlib import contextmanager\n",
    "\n",
    "class IterationTimer:\n",
    "    def __init__(self):\n",
    "        self.timings = []\n",
    "\n",
    "    @contextmanager\n",
    "    def time_iteration(self):\n",
    "        start_time = time.time()\n",
    "        yield  # Yield control back to the calling context\n",
    "        end_time = time.time()\n",
    "        # Calculate and store the duration\n",
    "        self.timings.append(end_time - start_time)\n",
    "\n",
    "# Usage\n",
    "timer = IterationTimer()\n",
    "\n",
    "# Simulate a loop where we time each iteration\n",
    "for _ in range(5):\n",
    "    with timer.time_iteration():\n",
    "        # Simulate some work\n",
    "        time.sleep(1)\n",
    "\n",
    "print(\"Timings for each iteration:\", timer.timings)\n"
   ]
  },
  {
   "cell_type": "markdown",
   "metadata": {},
   "source": [
    "Pytorch"
   ]
  },
  {
   "cell_type": "code",
   "execution_count": 4,
   "metadata": {},
   "outputs": [
    {
     "name": "stdout",
     "output_type": "stream",
     "text": [
      "Parameter size in bytes: 2000000 1000000 2\n"
     ]
    }
   ],
   "source": [
    "import torch\n",
    "\n",
    "# Example tensor on the meta device\n",
    "tensor = torch.empty(1000, 1000, device='meta', dtype=torch.float16)\n",
    "\n",
    "# Calculate the parameter size in bytes\n",
    "parameter_size = tensor.element_size() * tensor.numel()\n",
    "\n",
    "print(f\"Parameter size in bytes: {parameter_size}\", tensor.numel(), tensor.element_size())\n"
   ]
  },
  {
   "cell_type": "code",
   "execution_count": 5,
   "metadata": {},
   "outputs": [
    {
     "data": {
      "text/plain": [
       "[('a', 1), ('b', 2)]"
      ]
     },
     "execution_count": 5,
     "metadata": {},
     "output_type": "execute_result"
    }
   ],
   "source": [
    "a = {'a': 1, 'b': 2}\n",
    "list(a.items())"
   ]
  },
  {
   "cell_type": "code",
   "execution_count": null,
   "metadata": {},
   "outputs": [
    {
     "data": {
      "text/plain": [
       "('layers.10', 'layers.10')"
      ]
     },
     "execution_count": 11,
     "metadata": {},
     "output_type": "execute_result"
    }
   ],
   "source": [
    "def return_layer_name(name):\n",
    "    return name.split('_forward')[0].split('_backward')[0]\n",
    "\n",
    "\n",
    "\n",
    "return_layer_name('layers.10_forward'), return_layer_name('layers.10_backward')"
   ]
  },
  {
   "cell_type": "code",
   "execution_count": 16,
   "metadata": {},
   "outputs": [
    {
     "data": {
      "text/plain": [
       "'layers.10'"
      ]
     },
     "execution_count": 16,
     "metadata": {},
     "output_type": "execute_result"
    }
   ],
   "source": [
    "# trim _backward and _forward from layer names\n",
    "'layers.10_forward_backward'.removesuffix(\"_backward\").removesuffix(\"_forward\") \n"
   ]
  },
  {
   "cell_type": "code",
   "execution_count": 19,
   "metadata": {},
   "outputs": [
    {
     "data": {
      "text/plain": [
       "[2, 4, 5, 3]"
      ]
     },
     "execution_count": 19,
     "metadata": {},
     "output_type": "execute_result"
    }
   ],
   "source": [
    "a = [('a.0', 2), (\"a.4\", 3), (\"a.2\", 4), (\"a.3\", 5)]\n",
    "[i[1] for i in sorted(a)]\n",
    "\n"
   ]
  },
  {
   "cell_type": "code",
   "execution_count": 20,
   "metadata": {},
   "outputs": [
    {
     "name": "stdout",
     "output_type": "stream",
     "text": [
      "1.0013096332550049\n"
     ]
    }
   ],
   "source": [
    "import time\n",
    "\n",
    "tic = time.time()\n",
    "time.sleep(1)\n",
    "toc = time.time()\n",
    "print(toc - tic)"
   ]
  },
  {
   "cell_type": "code",
   "execution_count": null,
   "metadata": {},
   "outputs": [
    {
     "data": {
      "text/plain": [
       "PosixPath('text.txt')"
      ]
     },
     "execution_count": 26,
     "metadata": {},
     "output_type": "execute_result"
    }
   ],
   "source": [
    "from pathlib import Path\n",
    "import os\n",
    "\n",
    "path_file = os.getcwd()\n",
    "path_file\n",
    "file_name = 'text.txt'\n",
    "path = Path(path_file) / file_name\n"
   ]
  },
  {
   "cell_type": "code",
   "execution_count": 40,
   "metadata": {},
   "outputs": [],
   "source": [
    "# create relative path /output/\n",
    "path = Path('output') / 'DeviceType.A6000_tp4_bs1.json'"
   ]
  },
  {
   "cell_type": "code",
   "execution_count": 41,
   "metadata": {},
   "outputs": [
    {
     "data": {
      "text/plain": [
       "'/home/ba64326/projects/torchtitan/playground/output/DeviceType.A6000_tp4_bs1.json'"
      ]
     },
     "execution_count": 41,
     "metadata": {},
     "output_type": "execute_result"
    }
   ],
   "source": [
    "path.absolute().__str__()"
   ]
  },
  {
   "cell_type": "code",
   "execution_count": 1,
   "metadata": {},
   "outputs": [
    {
     "data": {
      "text/plain": [
       "32"
      ]
     },
     "execution_count": 1,
     "metadata": {},
     "output_type": "execute_result"
    }
   ],
   "source": [
    "(32,1)[0]"
   ]
  },
  {
   "cell_type": "code",
   "execution_count": 3,
   "metadata": {},
   "outputs": [
    {
     "data": {
      "text/plain": [
       "100"
      ]
     },
     "execution_count": 3,
     "metadata": {},
     "output_type": "execute_result"
    }
   ],
   "source": [
    "(34+234+34)//3"
   ]
  },
  {
   "cell_type": "code",
   "execution_count": 2,
   "metadata": {},
   "outputs": [
    {
     "data": {
      "text/plain": [
       "137.5432726740837"
      ]
     },
     "execution_count": 2,
     "metadata": {},
     "output_type": "execute_result"
    }
   ],
   "source": [
    "sum([      137.76961962382,\n",
    "      141.05121294657388,\n",
    "      132.14453061421713,\n",
    "      140.72759946187338,\n",
    "      137.6026471455892,\n",
    "      135.10831197102863,\n",
    "      137.24668820699054,\n",
    "      140.49816131591797,\n",
    "      131.8689982096354,\n",
    "      140.71218172709146,\n",
    "      137.8781000773112,\n",
    "      135.37931442260742,\n",
    "      137.86188761393228,\n",
    "      140.71305592854816,\n",
    "      132.33494758605957,\n",
    "      140.9745216369629,\n",
    "      136.9194189707438,\n",
    "      135.74377695719403,\n",
    "      137.6159985860189,\n",
    "      141.37538274129233,\n",
    "      133.2713762919108,\n",
    "      141.48521423339844,\n",
    "      136.95192337036133,\n",
    "      135.61367988586426,\n",
    "      137.79528935750324,\n",
    "      140.73355992635092,\n",
    "      132.55516688028973,\n",
    "      140.61419169108072,\n",
    "      138.5065714518229,\n",
    "      134.94563102722168,\n",
    "      137.38576571146646,140])/32"
   ]
  },
  {
   "cell_type": "code",
   "execution_count": null,
   "metadata": {},
   "outputs": [],
   "source": []
  }
 ],
 "metadata": {
  "kernelspec": {
   "display_name": "titan",
   "language": "python",
   "name": "python3"
  },
  "language_info": {
   "codemirror_mode": {
    "name": "ipython",
    "version": 3
   },
   "file_extension": ".py",
   "mimetype": "text/x-python",
   "name": "python",
   "nbconvert_exporter": "python",
   "pygments_lexer": "ipython3",
   "version": "3.10.15"
  }
 },
 "nbformat": 4,
 "nbformat_minor": 2
}
